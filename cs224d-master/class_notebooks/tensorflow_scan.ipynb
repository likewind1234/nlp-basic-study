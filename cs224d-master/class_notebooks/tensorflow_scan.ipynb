{
 "cells": [
  {
   "cell_type": "markdown",
   "metadata": {},
   "source": [
    "# TensorFlow Scan\n",
    "`tensorflow.scan` allows for loops to be written inside a computation graph (which using explicit loop structures like `for`) -- backpropagation is handled implicitly by `tensorflow`. Explicitly unrolling the loops requires the creation of new graph nodes for each loop body iteration (although the number of iterations is fixed)."
   ]
  },
  {
   "cell_type": "markdown",
   "metadata": {},
   "source": [
    "# Cumulative Sum"
   ]
  },
  {
   "cell_type": "code",
   "execution_count": 3,
   "metadata": {
    "collapsed": false
   },
   "outputs": [
    {
     "name": "stdout",
     "output_type": "stream",
     "text": [
      "[ 1.  3.  5.  7.]\n"
     ]
    }
   ],
   "source": [
    "import tensorflow as tf\n",
    "\n",
    "def fn(previous_output, current_input):\n",
    "    return previous_output + current_input\n",
    "\n",
    "elems = tf.Variable([1.0, 2.0, 2.0, 2.0])\n",
    "elems = tf.identity(elems)\n",
    "#required otherwise it will fail;\n",
    "\n",
    "initializer = tf.constant(0.0)\n",
    "out = tf.scan(fn, elems, initializer=initializer)\n",
    "\n",
    "with tf.Session() as session:\n",
    "    init_op = tf.initialize_all_variables()\n",
    "    session.run(init_op)\n",
    "    value = session.run(out)\n",
    "    print(value)"
   ]
  },
  {
   "cell_type": "markdown",
   "metadata": {
    "collapsed": true
   },
   "source": [
    "# Loop Equivalence"
   ]
  },
  {
   "cell_type": "code",
   "execution_count": 18,
   "metadata": {
    "collapsed": false
   },
   "outputs": [
    {
     "name": "stdout",
     "output_type": "stream",
     "text": [
      "[ 7.]\n"
     ]
    }
   ],
   "source": [
    "import tensorflow as tf\n",
    "\n",
    "def fn(previous_output, current_input):\n",
    "    return previous_output + current_input\n",
    "\n",
    "elems = tf.Variable([1.0, 2.0, 2.0, 2.0])\n",
    "elems = tf.identity(elems)\n",
    "#required otherwise it will fail;\n",
    "\n",
    "initializer = tf.constant(0.0)\n",
    "cum_sum = tf.Variable(0.0)\n",
    "\n",
    "for x in tf.split(0, elems.get_shape()[0], elems):\n",
    "    cum_sum += x\n",
    "    \n",
    "with tf.Session() as session:\n",
    "    init_op = tf.initialize_all_variables()\n",
    "    session.run(init_op)\n",
    "    value = session.run(cum_sum)\n",
    "    print(value)\n",
    "    #like a reduce operation (but it scans over elements)"
   ]
  },
  {
   "cell_type": "code",
   "execution_count": null,
   "metadata": {
    "collapsed": true
   },
   "outputs": [],
   "source": []
  }
 ],
 "metadata": {
  "kernelspec": {
   "display_name": "Python 3",
   "language": "python",
   "name": "python3"
  },
  "language_info": {
   "codemirror_mode": {
    "name": "ipython",
    "version": 3
   },
   "file_extension": ".py",
   "mimetype": "text/x-python",
   "name": "python",
   "nbconvert_exporter": "python",
   "pygments_lexer": "ipython3",
   "version": "3.4.3+"
  }
 },
 "nbformat": 4,
 "nbformat_minor": 0
}
